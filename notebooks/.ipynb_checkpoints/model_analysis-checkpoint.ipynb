{
 "cells": [
  {
   "cell_type": "markdown",
   "metadata": {},
   "source": [
    "Firstly we import all the functions we have written and load the data."
   ]
  },
  {
   "cell_type": "code",
   "execution_count": null,
   "metadata": {},
   "outputs": [
    {
     "ename": "SyntaxError",
     "evalue": "invalid syntax (1810441938.py, line 1)",
     "output_type": "error",
     "traceback": [
      "\u001b[0;36m  Cell \u001b[0;32mIn[4], line 1\u001b[0;36m\u001b[0m\n\u001b[0;31m    from ../src/functions import *\u001b[0m\n\u001b[0m           ^\u001b[0m\n\u001b[0;31mSyntaxError\u001b[0m\u001b[0;31m:\u001b[0m invalid syntax\n"
     ]
    }
   ],
   "source": [
    "from functions import *\n",
    "import matplotlib.pyplot as plt\n",
    "import seaborn as sns\n",
    "import pandas as pd\n",
    "import joblib\n",
    "\n",
    "dev = pd.read_csv(\"../data/development_final_data.csv\")\n",
    "val = pd.read_csv(\"../data/evaluation_final_data.csv\")\n",
    "devHP = pd.read_csv(\"../data/development_final_data_HP.csv\")\n",
    "valHP = pd.read_csv(\"../data/evaluation_final_data_HP.csv\")"
   ]
  },
  {
   "cell_type": "markdown",
   "metadata": {},
   "source": [
    "We calculate the baseline models that we will use for comparison and save them on disk."
   ]
  },
  {
   "cell_type": "code",
   "execution_count": null,
   "metadata": {},
   "outputs": [
    {
     "ename": "NameError",
     "evalue": "name 'trainBaseModel' is not defined",
     "output_type": "error",
     "traceback": [
      "\u001b[0;31m---------------------------------------------------------------------------\u001b[0m",
      "\u001b[0;31mNameError\u001b[0m                                 Traceback (most recent call last)",
      "Cell \u001b[0;32mIn[1], line 3\u001b[0m\n\u001b[1;32m      1\u001b[0m baseline \u001b[38;5;241m=\u001b[39m {}\n\u001b[1;32m      2\u001b[0m \u001b[38;5;28;01mfor\u001b[39;00m modelType \u001b[38;5;129;01min\u001b[39;00m [\u001b[38;5;124m'\u001b[39m\u001b[38;5;124mElasticNet\u001b[39m\u001b[38;5;124m'\u001b[39m, \u001b[38;5;124m'\u001b[39m\u001b[38;5;124mSVR\u001b[39m\u001b[38;5;124m'\u001b[39m, \u001b[38;5;124m'\u001b[39m\u001b[38;5;124mBayesianRidge\u001b[39m\u001b[38;5;124m'\u001b[39m]:\n\u001b[0;32m----> 3\u001b[0m     model \u001b[38;5;241m=\u001b[39m trainBaseModel(getFeats(dev), getTarget(dev), modelType)\n\u001b[1;32m      4\u001b[0m     baseline[modelType] \u001b[38;5;241m=\u001b[39m evalModel(model, getFeats(val), getTarget(val))\n\u001b[1;32m      5\u001b[0m     joblib\u001b[38;5;241m.\u001b[39mdump(model, \u001b[38;5;124mf\u001b[39m\u001b[38;5;124m'\u001b[39m\u001b[38;5;124mmodels/baseline_\u001b[39m\u001b[38;5;132;01m{\u001b[39;00mmodelType\u001b[38;5;132;01m}\u001b[39;00m\u001b[38;5;124m.pkl\u001b[39m\u001b[38;5;124m'\u001b[39m)\n",
      "\u001b[0;31mNameError\u001b[0m: name 'trainBaseModel' is not defined"
     ]
    }
   ],
   "source": [
    "baseline = {}\n",
    "for modelType in ['ElasticNet', 'SVR', 'BayesianRidge']:\n",
    "    model, baseline[modelType] = trainBaseModel(getFeats(dev), getTarget(dev), getFeats(val), getTarget(val), modelType)\n",
    "    # baseline[modelType] = evalModel(model, getFeats(val), getTarget(val))\n",
    "    joblib.dump(model, f'models/baseline_{modelType}.pkl')\n",
    "\n",
    "display(baseline)"
   ]
  }
 ],
 "metadata": {
  "kernelspec": {
   "display_name": "base",
   "language": "python",
   "name": "python3"
  },
  "language_info": {
   "codemirror_mode": {
    "name": "ipython",
    "version": 3
   },
   "file_extension": ".py",
   "mimetype": "text/x-python",
   "name": "python",
   "nbconvert_exporter": "python",
   "pygments_lexer": "ipython3",
   "version": "3.12.7"
  }
 },
 "nbformat": 4,
 "nbformat_minor": 2
}
